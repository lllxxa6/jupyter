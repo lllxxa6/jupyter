{
 "cells": [
  {
   "cell_type": "code",
   "execution_count": 1,
   "id": "14a15594-b787-48e3-a15e-cf656add0bc2",
   "metadata": {},
   "outputs": [],
   "source": [
    "import operator\n",
    "from numpy import *\n",
    "from os import listdir"
   ]
  },
  {
   "cell_type": "markdown",
   "id": "5fb8c5e7-81bf-4603-b241-bf1c9578cfdf",
   "metadata": {},
   "source": [
    "# K近邻"
   ]
  },
  {
   "cell_type": "markdown",
   "id": "24bc57ff-9a33-4530-a386-dcd697a02b6a",
   "metadata": {},
   "source": [
    "## K近邻算法概述"
   ]
  },
  {
   "cell_type": "code",
   "execution_count": 7,
   "id": "80d33029-db07-4eee-af54-fd59d91f6336",
   "metadata": {},
   "outputs": [
    {
     "name": "stdout",
     "output_type": "stream",
     "text": [
      "group: [[1.  1.1]\n",
      " [1.  1. ]\n",
      " [0.  0. ]\n",
      " [0.  0.1]]\n",
      "labels: ['A', 'A', 'B', 'B']\n"
     ]
    },
    {
     "data": {
      "text/plain": "'B'"
     },
     "execution_count": 7,
     "metadata": {},
     "output_type": "execute_result"
    }
   ],
   "source": [
    "def createDataSet():\n",
    "    group = array([[1.0, 1.1], [1.0, 1.0], [0, 0], [0, 0.1]])\n",
    "    labels = [\"A\", \"A\", \"B\", \"B\"]\n",
    "    return group, labels\n",
    "\n",
    "\n",
    "def KNNclassfiy(inx, dataSet, labels, k):\n",
    "    dataSetSize = dataSet.shape[0]\n",
    "    # 计算距离\n",
    "    diffMat = tile(inx, (dataSetSize, 1)) - dataSet\n",
    "    sqDiffMat = diffMat ** 2\n",
    "    sqDistances = sqDiffMat.sum(axis=1)\n",
    "    distances = sqDistances ** 0.5\n",
    "    sortedDisIndicies = distances.argsort()\n",
    "    # 选择距离最近的k个点\n",
    "    classCount = {}\n",
    "    for i in range(k):\n",
    "        voteIlabel = labels[sortedDisIndicies[i]]\n",
    "        classCount[voteIlabel] = classCount.get(voteIlabel, 0) + 1\n",
    "    # 排序\n",
    "    sortedClassCount = sorted(\n",
    "        classCount.items(), key=operator.itemgetter(1), reverse=True\n",
    "    )\n",
    "\n",
    "    return sortedClassCount[0][0]\n",
    "\n",
    "\n",
    "group, labels = createDataSet()\n",
    "print(\"group:\", group)\n",
    "print(\"labels:\", labels)\n",
    "KNNclassfiy([0, 0], group, labels, 3)"
   ]
  },
  {
   "cell_type": "markdown",
   "id": "fbbc72d0-ce92-4710-bbd3-f078ec8bea8c",
   "metadata": {},
   "source": [
    "## 案例：手写识别"
   ]
  },
  {
   "cell_type": "code",
   "execution_count": 11,
   "id": "4c2316a1-9989-4a0f-810a-dc5bc96d40ec",
   "metadata": {},
   "outputs": [],
   "source": [
    "def img2vector(filename):\n",
    "    \"\"\"\n",
    "    将图像转换为向量：\n",
    "        该函数创建1×1024的NumPy数组，然后打开给定的文件，循环读出文件的前32行，并将每行的头32个字符值存储在NumPy数组中，最后返回数组。\n",
    "    \"\"\"\n",
    "    returnVect = zeros((1, 1024))\n",
    "    fr = open(filename)\n",
    "    for i in range(32):\n",
    "        lineStr = fr.readline()\n",
    "        for j in range(32):\n",
    "            returnVect[0, 32 * i + j] = int(lineStr[j])\n",
    "    return returnVect\n",
    "\n",
    "\n",
    "def handwritingClassTest():\n",
    "    hwLabels = []\n",
    "    trainingFileList = listdir(\"digits/trainingDigits\")\n",
    "    m = len(trainingFileList)\n",
    "\n",
    "\n",
    "    # 初始化样本数据矩阵（M*1024）\n",
    "    trainingMat = zeros((m, 1024))\n",
    "\n",
    "    # 依次读取所有样本数据到数据矩阵\n",
    "    for i in range(m):\n",
    "        # 提取文件名中的数字\n",
    "        fileNameStr = trainingFileList[i]\n",
    "        fileStr = fileNameStr.split('.')[0]\n",
    "        classNumStr = int(fileStr.split('_')[0])\n",
    "        hwLabels.append(classNumStr)\n",
    "\n",
    "        # 将样本数据存入矩阵\n",
    "        trainingMat[i, :] = img2vector('digits/trainingDigits/%s' % fileNameStr)\n",
    "\n",
    "        # 循环读取测试数据\n",
    "        testFileList = listdir('digits/testDigits')\n",
    "\n",
    "        # 初始化错误率\n",
    "        errorCount = 0.0\n",
    "        mTest = len(testFileList)\n",
    "\n",
    "    # 循环测试每个测试数据文件\n",
    "    for i in range(mTest):\n",
    "        # 提取文件名中的数字\n",
    "        fileNameStr = testFileList[i]\n",
    "        fileStr = fileNameStr.split('.')[0]\n",
    "        classNumStr = int(fileStr.split('_')[0])\n",
    "\n",
    "        # 提取数据向量\n",
    "        vectorUnderTest = img2vector('digits/testDigits/%s' % fileNameStr)\n",
    "\n",
    "        # 对数据文件进行分类\n",
    "        classifierResult = KNNclassfiy(vectorUnderTest, trainingMat, hwLabels, 3)\n",
    "\n",
    "        # 打印KNN算法分类结果和真实的分类\n",
    "        # print(\"the classifier came back with: %d, the real answer is: %d\" % (classifierResult, classNumStr))\n",
    "\n",
    "        # 判断KNN算法结果是否准确\n",
    "        if (classifierResult != classNumStr): errorCount += 1.0\n",
    "\n",
    "    # 打印错误率\n",
    "    print(\"\\nthe total number of errors is: %d\" % errorCount)\n",
    "    print(\"\\nthe total error rate is: %f\" % (errorCount / float(mTest)))"
   ]
  },
  {
   "cell_type": "code",
   "execution_count": 12,
   "id": "9813fa70-a6b9-4c2a-bdcd-bb5fd00b098f",
   "metadata": {},
   "outputs": [
    {
     "name": "stdout",
     "output_type": "stream",
     "text": [
      "\n",
      "the total number of errors is: 10\n",
      "\n",
      "the total error rate is: 0.010571\n"
     ]
    }
   ],
   "source": [
    "handwritingClassTest()"
   ]
  },
  {
   "cell_type": "code",
   "execution_count": null,
   "id": "e0c76ac7-6c68-4a5f-8892-8ece362405aa",
   "metadata": {},
   "outputs": [],
   "source": []
  }
 ],
 "metadata": {
  "kernelspec": {
   "display_name": "Python 3 (ipykernel)",
   "language": "python",
   "name": "python3"
  },
  "language_info": {
   "codemirror_mode": {
    "name": "ipython",
    "version": 3
   },
   "file_extension": ".py",
   "mimetype": "text/x-python",
   "name": "python",
   "nbconvert_exporter": "python",
   "pygments_lexer": "ipython3",
   "version": "3.9.12"
  }
 },
 "nbformat": 4,
 "nbformat_minor": 5
}
