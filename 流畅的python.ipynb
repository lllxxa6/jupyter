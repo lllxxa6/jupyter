{
 "cells": [
  {
   "attachments": {},
   "cell_type": "markdown",
   "metadata": {},
   "source": [
    "# 2 序列构成的数组\n",
    "## 2.1内置序列类型\n",
    "- 容器序列：list、tuple 和 collections.deque 这些序列能存放不同类型的数据。\n",
    "- 扁平序列：str、bytes、bytearray、memoryview 和 array.array，这类序列只能容纳一种类型。\n",
    "\n",
    "\n",
    "序列类型还能按照能否被修改来分类。\n",
    "- 可变序列：list、bytearray、array.array、collections.deque 和 memoryview。\n",
    "- 不可变序列：tuple、str 和 bytes。\n",
    "## 2.2 列表推导和生成器表达式\n",
    "### 2.2.1 列表推导"
   ]
  },
  {
   "cell_type": "code",
   "execution_count": 3,
   "metadata": {},
   "outputs": [
    {
     "name": "stdout",
     "output_type": "stream",
     "text": [
      "列表推导： [162, 163, 165, 8364, 164]\n",
      "filter/map组合： [162, 163, 165, 8364, 164]\n"
     ]
    }
   ],
   "source": [
    "symble = \"$¢£¥€¤\"\n",
    "codes = [ord(x) for x in symble if ord(x) > 100]\n",
    "print('列表推导：', codes)\n",
    "codes = list(filter(lambda x: x > 100, map(ord, symble)))\n",
    "print('filter/map组合：', codes)\n"
   ]
  },
  {
   "cell_type": "code",
   "execution_count": 4,
   "metadata": {},
   "outputs": [
    {
     "name": "stdout",
     "output_type": "stream",
     "text": [
      "笛卡尔积： [('black', 'S'), ('black', 'M'), ('black', 'L'), ('white', 'S'), ('white', 'M'), ('white', 'L')]\n"
     ]
    }
   ],
   "source": [
    "colors = ['black', 'white']\n",
    "sizes = ['S', 'M', 'L']\n",
    "tshirts = [(color, size) for color in colors for size in sizes]\n",
    "print('笛卡尔积：', tshirts)\n"
   ]
  },
  {
   "attachments": {},
   "cell_type": "markdown",
   "metadata": {},
   "source": [
    "### 2.2.2 生成器表达式 \n",
    "生成器表达式的语法跟列表推导差不多，只不过把方括号换成圆括号而已。"
   ]
  },
  {
   "cell_type": "code",
   "execution_count": 5,
   "metadata": {},
   "outputs": [
    {
     "name": "stdout",
     "output_type": "stream",
     "text": [
      "black S\n",
      "black M\n",
      "black L\n",
      "white S\n",
      "white M\n",
      "white L\n"
     ]
    }
   ],
   "source": [
    "# 生成器表达式逐个产出元素，从来不会一次性产出一个含有 6 个 T 恤样式的列表。\n",
    "colors = ['black', 'white']\n",
    "sizes = ['S', 'M', 'L']\n",
    "for tshirts in (('%s %s') % (c, s) for c in colors for s in sizes):\n",
    "    print(tshirts)\n"
   ]
  },
  {
   "attachments": {},
   "cell_type": "markdown",
   "metadata": {},
   "source": [
    "## 2.3 元组不仅仅时不可变的列表\n",
    "### 2.3.1 元组和记录\n",
    "如果只把元组理解为不可变的列表，那其他信息——它所含有的元素的总数和它们的位置——似乎就变得可有可无。但是如果把元组当作一些字段的集合，那么数量和位置信息就变得非常重要了。"
   ]
  },
  {
   "cell_type": "code",
   "execution_count": 6,
   "metadata": {},
   "outputs": [
    {
     "name": "stdout",
     "output_type": "stream",
     "text": [
      "USA/31195855\n",
      "BRA/CE342567\n",
      "ESP/CE342567\n"
     ]
    }
   ],
   "source": [
    "# 经纬度\n",
    "lax_coordinates = (33, -118)\n",
    "# 市名、年份、人口（单位：百万）、人口变化（单位：百分比）和面积（单位：平方千米）\n",
    "city, year, pop, chg, area = ('Tokyp', 2003, 32450, 0.66, 8014)\n",
    "traveler_ids = [('USA', '31195855'), ('BRA', 'CE342567'), ('ESP', 'CE342567')]\n",
    "for passport in traveler_ids:\n",
    "    print('%s/%s' % passport)\n"
   ]
  },
  {
   "attachments": {},
   "cell_type": "markdown",
   "metadata": {},
   "source": [
    "### 2.3.2 元组拆包\n",
    "将元组中的元素分别赋值给不同的变量，可用 * 来表示忽略多余的元素"
   ]
  },
  {
   "cell_type": "code",
   "execution_count": 11,
   "metadata": {},
   "outputs": [
    {
     "name": "stdout",
     "output_type": "stream",
     "text": [
      "latitude: 33 \n",
      "longitude: -118 \n",
      "\n",
      "longitude: -118 \n",
      "\n",
      "0 1 [2, 3, 4]\n"
     ]
    }
   ],
   "source": [
    "latitude, longitude = lax_coordinates\n",
    "print('latitude:', latitude, '\\nlongitude:', longitude, '\\n')\n",
    "\n",
    "_, longitude = lax_coordinates  # 使用_占位符取到想要的数据\n",
    "print('longitude:', longitude, '\\n')\n",
    "\n",
    "a, b, *rest = range(5)  # 用*来处理剩下的元素\n",
    "print(a, b, rest)\n"
   ]
  },
  {
   "attachments": {},
   "cell_type": "markdown",
   "metadata": {},
   "source": [
    "### 2.3.3 嵌套元组拆包\n",
    "接受表达式的元组可以是嵌套式的，例如 (a, b, (c, d))。"
   ]
  },
  {
   "cell_type": "code",
   "execution_count": 12,
   "metadata": {},
   "outputs": [
    {
     "name": "stdout",
     "output_type": "stream",
     "text": [
      "                |   lat.    |   long.  \n",
      "Mexico City     |   19.4333 |  -99.1333\n",
      "New York-Newark |   40.8086 |  -74.0204\n",
      "Sao Paulo       |  -23.5478 |  -46.6358\n"
     ]
    }
   ],
   "source": [
    "# 每个元组内有 4 个元素，其中最后一个元素是一对坐标。\n",
    "# 我们把输入元组的最后一个元素拆包到由变量构成的元组里，这样就获取了坐标。\n",
    "# if longitude <= 0: 这个条件判断把输出限制在西半球的城市。\n",
    "metro_areas = [\n",
    "    ('Tokyo', 'JP', 36.933, (35.689722, 139.691667)),\n",
    "    ('Delhi NCR', 'IN', 21.935, (28.613889, 77.208889)),\n",
    "    ('Mexico City', 'MX', 20.142, (19.433333, -99.133333)),\n",
    "    ('New York-Newark', 'US', 20.104, (40.808611, -74.020386)),\n",
    "    ('Sao Paulo', 'BR', 19.649, (-23.547778, -46.635833)),\n",
    "]\n",
    "print('{:15} | {:^9} | {:^9}'.format('', 'lat.', 'long.'))\n",
    "fmt = '{:15} | {:9.4f} | {:9.4f}'\n",
    "for name, cc, pop, (latitude, longitude) in metro_areas:\n",
    "    if longitude <= 0:\n",
    "        print(fmt.format(name, latitude, longitude))\n"
   ]
  },
  {
   "attachments": {},
   "cell_type": "markdown",
   "metadata": {},
   "source": [
    "### 2.3.4 具名元组\n",
    "collections.namedtuple 是一个工厂函数，它可以用来构建一个带字段名的元组和一个有名字的类——这个带名字的类对调试程序有很大帮助。"
   ]
  },
  {
   "cell_type": "code",
   "execution_count": 23,
   "metadata": {},
   "outputs": [
    {
     "name": "stdout",
     "output_type": "stream",
     "text": [
      "City(name='Tokyo', country='JP', population=36, coordinates=(35, 139))\n",
      "Tokyo\n",
      "JP\n",
      "**********具名元组的属性和方法**********\n",
      "('name', 'country', 'population', 'coordinates')\n",
      "{'name': 'Delhi NCR', 'country': 'IN', 'population': 21.935, 'coordinates': LatLong(lar=28.613889, long=77.208889)}\n",
      "********************\n",
      "name ： Delhi NCR\n",
      "country ： IN\n",
      "population ： 21.935\n",
      "coordinates ： LatLong(lar=28.613889, long=77.208889)\n"
     ]
    }
   ],
   "source": [
    "from collections import namedtuple\n",
    "City = namedtuple(\"City\",\"name country population coordinates\")\n",
    "tokyo = City(\"Tokyo\",'JP',36,(35,139))\n",
    "print(tokyo)\n",
    "print(tokyo.name)\n",
    "print(tokyo[1])\n",
    "\n",
    "print('*'*10+'具名元组的属性和方法'+'*'*10)\n",
    "print(City._fields) # 输出包含类所有字段名称的元组\n",
    "LatLong = namedtuple(\"LatLong\",\"lar long\")\n",
    "delhi_data = ('Delhi NCR', 'IN', 21.935, LatLong(28.613889, 77.208889))\n",
    "delhi = City._make(delhi_data) # 用_make()通过接受一个可迭代对象来生成类的实例\n",
    "print(delhi._asdict()) # _asdict()把具名元组以collections.OrderedDict的形式返回\n",
    "\n",
    "print('*'*20)\n",
    "for k,v in delhi._asdict().items():\n",
    "    print(k,'：',v)\n"
   ]
  },
  {
   "attachments": {},
   "cell_type": "markdown",
   "metadata": {},
   "source": [
    "## 2.4 切片"
   ]
  },
  {
   "attachments": {},
   "cell_type": "markdown",
   "metadata": {},
   "source": [
    "## 2.5 对序列使用+和*\n",
    "如果在 a * n 这个语句中，序列 a 里的元素是对其他可变对象的引用的话，你就需要格外注意了"
   ]
  },
  {
   "cell_type": "code",
   "execution_count": 29,
   "metadata": {},
   "outputs": [
    {
     "name": "stdout",
     "output_type": "stream",
     "text": [
      "\n",
      "**********写法一**********\n",
      "\n",
      "[['_', '_', '_'], ['_', '_', '_'], ['_', '_', '_']]\n",
      "[['_', '_', '_'], ['_', '_', 'x'], ['_', '_', '_']]\n",
      "\n",
      "**********写法二**********\n",
      "\n",
      "[['_', '_', '_'], ['_', '_', '_'], ['_', '_', '_']]\n",
      "[['_', '_', 'x'], ['_', '_', 'x'], ['_', '_', 'x']]\n"
     ]
    }
   ],
   "source": [
    "print('\\n'+'*'*10+'写法一'+'*'*10+'\\n')\n",
    "board = [['_']*3 for i in range(3)]\n",
    "print(board)\n",
    "board[1][2] = 'x'\n",
    "print(board)\n",
    "print('\\n'+'*'*10+'写法二'+'*'*10+'\\n')\n",
    "board = [['_']*3]*3\n",
    "print(board)\n",
    "board[1][2] = 'x'\n",
    "print(board)"
   ]
  },
  {
   "attachments": {},
   "cell_type": "markdown",
   "metadata": {},
   "source": [
    "## 2.6 序列的增量赋值\n",
    "增量赋值运算符 += 和 *= 的表现取决于它们的第一个操作对象。"
   ]
  },
  {
   "cell_type": "code",
   "execution_count": 31,
   "metadata": {},
   "outputs": [
    {
     "name": "stdout",
     "output_type": "stream",
     "text": [
      "2486609198656\n",
      "[1, 2, 3, 1, 2, 3]\n",
      "2486609198656\n",
      "2486582196224\n",
      "(1, 2, 3, 1, 2, 3)\n",
      "2486609172320\n"
     ]
    }
   ],
   "source": [
    "# 可变序列\n",
    "l = [1,2,3]\n",
    "print(id(l)) # 刚开始时列表的 ID。\n",
    "l *= 2\n",
    "print(l)\n",
    "print(id(l)) # 运用增量乘法后，列表的 ID 没变，新元素追加到列表上。\n",
    "# 不可变序列\n",
    "t  = (1,2,3)\n",
    "print(id(t)) # 元组最开始的 ID。\n",
    "t *= 2\n",
    "print(t)\n",
    "print(id(t)) # 运用增量乘法后，新的元组被创建。"
   ]
  },
  {
   "attachments": {},
   "cell_type": "markdown",
   "metadata": {},
   "source": [
    "## 2.7 list.sort 方法和内置函数sorted\n",
    "list.sort 方法会就地排序列表，也就是说不会把原列表复制一份。这也是这个方法的返回值是 None 的原因，提醒你本方法不会新建一个列表。在这种情况下返回 None 其实是Python 的一个惯例：如果一个函数或者方法对对象进行的是就地改动，那它就应该返回None，好让调用者知道传入的参数发生了变动，而且并未产生新的对象。\n",
    "   \n",
    "与 list.sort 相反的是内置函数 sorted，它会新建一个列表作为返回值。这个方法可以接受任何形式的可迭代对象作为参数，甚至包括不可变序列或生成器（见第 14 章）。而不管sorted 接受的是怎样的参数，它最后都会返回一个列表。"
   ]
  },
  {
   "cell_type": "code",
   "execution_count": 32,
   "metadata": {},
   "outputs": [
    {
     "name": "stdout",
     "output_type": "stream",
     "text": [
      "['apple', 'banana', 'grape', 'respberry']\n",
      "['grape', 'respberry', 'apple', 'banana']\n",
      "['respberry', 'grape', 'banana', 'apple']\n",
      "['grape', 'apple', 'banana', 'respberry']\n",
      "None\n",
      "['apple', 'banana', 'grape', 'respberry']\n"
     ]
    }
   ],
   "source": [
    "# 参数：\n",
    "# reverse : 是否降序 True/False\n",
    "# key     : 一个只有一个参数的函数，默认为恒等函数。例：str.lower、len。\n",
    "fruits = ['grape','respberry','apple','banana']\n",
    "print(sorted(fruits))\n",
    "print(fruits)\n",
    "print(sorted(fruits,reverse=True))\n",
    "print(sorted(fruits,key=len))\n",
    "\n",
    "print(fruits.sort())\n",
    "print(fruits)"
   ]
  },
  {
   "attachments": {},
   "cell_type": "markdown",
   "metadata": {},
   "source": [
    "## 2,8 用bisect来管理已排序的序列\n",
    "bisect 模块包含两个主要函数，bisect 和 insort，两个函数都利用二分查找算法来在有序序列中查找或插入元素。\n",
    "### 2.8.1 用bisect来搜索\n",
    "bisect(haystack, needle) 在 haystack（干草垛）里搜索 needle（针）的位置，该位置满足的条件是，把 needle 插入这个位置之后，haystack 还能保持升序。也就是在说这个函数返回的位置前面的值，都小于或等于 needle 的值。"
   ]
  },
  {
   "cell_type": "code",
   "execution_count": 45,
   "metadata": {},
   "outputs": [
    {
     "name": "stdout",
     "output_type": "stream",
     "text": [
      "DEMO: bisect_right\n",
      "haystack ->  1  4  5  6  8 12 15 20 21 23 23 26 29 30\n",
      "31 @ 14      |  |  |  |  |  |  |  |  |  |  |  |  |  |31\n",
      "30 @ 14      |  |  |  |  |  |  |  |  |  |  |  |  |  |30\n",
      "29 @ 13      |  |  |  |  |  |  |  |  |  |  |  |  |29\n",
      "23 @ 11      |  |  |  |  |  |  |  |  |  |  |23\n",
      "22 @  9      |  |  |  |  |  |  |  |  |22\n",
      "10 @  5      |  |  |  |  |10\n",
      " 8 @  5      |  |  |  |  |8 \n",
      " 5 @  3      |  |  |5 \n",
      " 2 @  1      |2 \n",
      " 1 @  1      |1 \n",
      " 0 @  0    0 \n"
     ]
    }
   ],
   "source": [
    "import bisect\n",
    "import sys\n",
    "HAYSTACK = [1, 4, 5, 6, 8, 12, 15, 20, 21, 23, 23, 26, 29, 30]\n",
    "NEEDLES = [0, 1, 2, 5, 8, 10, 22, 23, 29, 30, 31]\n",
    "ROW_FMT = '{0:2d} @ {1:2d}    {2}{0:<2d}'\n",
    "print('DEMO:', bisect.bisect.__name__)\n",
    "print('haystack ->', ' '.join('%2d' % n for n in HAYSTACK))\n",
    "for needle in reversed(NEEDLES):\n",
    "    position = bisect.bisect(HAYSTACK, needle)\n",
    "    offset = position * '  |'\n",
    "    print(ROW_FMT.format(needle, position, offset))"
   ]
  },
  {
   "attachments": {},
   "cell_type": "markdown",
   "metadata": {},
   "source": [
    "### 2.8.2 用bisect.insert插入新元素\n",
    "insort(seq, item) 把变量 item 插入到序列 seq 中，并能保持 seq 的升序顺序。"
   ]
  },
  {
   "cell_type": "code",
   "execution_count": 53,
   "metadata": {},
   "outputs": [
    {
     "name": "stdout",
     "output_type": "stream",
     "text": [
      " 0 -> [0]\n",
      " 2 -> [0, 2]\n",
      "13 -> [0, 2, 13]\n",
      " 4 -> [0, 2, 4, 13]\n",
      " 8 -> [0, 2, 4, 8, 13]\n",
      " 5 -> [0, 2, 4, 5, 8, 13]\n",
      "13 -> [0, 2, 4, 5, 8, 13, 13]\n"
     ]
    }
   ],
   "source": [
    "import bisect\n",
    "import random\n",
    "SIZE=7\n",
    "my_list = []\n",
    "for i in range(SIZE):\n",
    "    new_item = random.randrange(SIZE*2)\n",
    "    bisect.insort(my_list, new_item)\n",
    "    print('%2d ->' % new_item, my_list)"
   ]
  },
  {
   "attachments": {},
   "cell_type": "markdown",
   "metadata": {},
   "source": [
    "## 2.9 当列表不是首选\n",
    "虽然列表既灵活又简单，但面对各类需求时，我们可能会有更好的选择。比如，要存放1000 万个浮点数的话，数组（array）的效率要高得多，因为数组在背后存的并不是 float对象，而是数字的机器翻译，也就是字节表述。这一点就跟 C 语言中的数组一样。再比如说，如果需要频繁对序列做先进先出的操作，deque（双端队列）的速度应该会更快。\n",
    "### 2.9.1 数组\n",
    "如果我们需要一个只包含数字的列表，那么 array.array 比 list 更高效。数组支持所有跟可变序列有关的操作，包括 .pop、.insert 和 .extend。另外，数组还提供从文件读取和存入文件的更快的方法，如 .frombytes 和 .tofile。"
   ]
  },
  {
   "cell_type": "code",
   "execution_count": 7,
   "metadata": {},
   "outputs": [
    {
     "name": "stdout",
     "output_type": "stream",
     "text": [
      "True\n"
     ]
    }
   ],
   "source": [
    "from array import array\n",
    "from random import random\n",
    "float = array('d',(random() for i in range(10)))\n",
    "# 存入文件\n",
    "fp = open('floats.bin', 'wb')\n",
    "float.tofile(fp)\n",
    "fp.close()\n",
    "# 从文件读取\n",
    "float2 = array('d')\n",
    "fp = open('floats.bin', 'rb')\n",
    "float2.fromfile(fp, 10)\n",
    "fp.close()\n",
    "\n",
    "print(float == float2)"
   ]
  },
  {
   "attachments": {},
   "cell_type": "markdown",
   "metadata": {},
   "source": [
    "### 2.9.2 内存视图\n",
    "memoryview 是一个内置类，它能让用户在不复制内容的情况下操作同一个数组的不同切片。"
   ]
  },
  {
   "attachments": {},
   "cell_type": "markdown",
   "metadata": {},
   "source": [
    "### 2.9.3 Numpy 和 Scipy\n",
    "NumPy 实现了多维同质数组（homogeneous array）和矩阵，这些数据结构不但能处理数字，还能存放其他由用户定义的记录。通过 NumPy，用户能对这些数据结构里的元素进行高效的操作。\n",
    "\n",
    "SciPy 是基于 NumPy 的另一个库，它提供了很多跟科学计算有关的算法，专为线性代数、数值积分和统计学而设计。"
   ]
  },
  {
   "cell_type": "code",
   "execution_count": 7,
   "metadata": {},
   "outputs": [
    {
     "name": "stdout",
     "output_type": "stream",
     "text": [
      "a      :  [ 0  1  2  3  4  5  6  7  8  9 10 11] \n",
      "type(a):  <class 'numpy.ndarray'> \n",
      "a.shape:  (12,)\n",
      "[[ 0  1  2  3]\n",
      " [ 4  5  6  7]\n",
      " [ 8  9 10 11]]\n",
      "[[ 0  4  8]\n",
      " [ 1  5  9]\n",
      " [ 2  6 10]\n",
      " [ 3  7 11]]\n"
     ]
    }
   ],
   "source": [
    "import numpy\n",
    "a = numpy.arange(12)\n",
    "print('a      : ',a,'\\ntype(a): ',type(a),'\\na.shape: ',a.shape)\n",
    "a.shape = 3,4\n",
    "print(a)\n",
    "print(a.transpose())"
   ]
  },
  {
   "attachments": {},
   "cell_type": "markdown",
   "metadata": {},
   "source": [
    "### 2.9.4 双向队列和其他形式的队列\n",
    "collections.deque 类（双向队列）是一个线程安全、可以快速从两端添加或者删除元素的数据类型。"
   ]
  },
  {
   "cell_type": "code",
   "execution_count": 9,
   "metadata": {},
   "outputs": [
    {
     "name": "stdout",
     "output_type": "stream",
     "text": [
      "deque([0, 1, 2, 3, 4, 5, 6, 7, 8, 9], maxlen=10)\n",
      "deque([7, 8, 9, 0, 1, 2, 3, 4, 5, 6], maxlen=10)\n",
      "deque([1, 2, 3, 4, 5, 6, 7, 8, 9, 0], maxlen=10)\n"
     ]
    }
   ],
   "source": [
    "from collections import deque\n",
    "dq = deque(range(10), maxlen=10)\n",
    "print(dq)\n",
    "dq.rotate(3)\n",
    "print(dq)\n",
    "dq.rotate(-4)\n",
    "print(dq)\n",
    "dq.appendleft(-1)\n",
    "print(dq)\n"
   ]
  },
  {
   "attachments": {},
   "cell_type": "markdown",
   "metadata": {},
   "source": [
    "# 3 字典和集合\n",
    "本章内容的大纲如下：\n",
    "- 常见的字典方法\n",
    "- 如何处理查找不到的键\n",
    "- 标准库中 dict 类型的变种\n",
    "- set 和 frozenset 类型\n",
    "- 散列表的工作原理\n",
    "- 散列表带来的潜在影响（什么样的数据类型可作为键、不可预知的顺序，等等）\n",
    " ## 3.1 泛映射类型  "
   ]
  },
  {
   "cell_type": "code",
   "execution_count": 1,
   "metadata": {},
   "outputs": [
    {
     "data": {
      "text/plain": [
       "True"
      ]
     },
     "execution_count": 1,
     "metadata": {},
     "output_type": "execute_result"
    }
   ],
   "source": [
    "a = dict(one = 1, two = 2, three = 3)\n",
    "b = {'one':1, 'two':2, 'three':3}\n",
    "c = dict(zip(['one','two','three'],[1,2,3]))\n",
    "d = dict([('one',1),('two',2),('three',3)])\n",
    "e = dict({'three':3,'two':2,'one':1})\n",
    "a == b == c == d == e"
   ]
  },
  {
   "attachments": {},
   "cell_type": "markdown",
   "metadata": {},
   "source": [
    "## 3.2 字典推导\n",
    "字典推导（dictcomp）可以从任何以键值对作为元素的可迭代对象中构建出字典"
   ]
  },
  {
   "cell_type": "code",
   "execution_count": 4,
   "metadata": {},
   "outputs": [
    {
     "name": "stdout",
     "output_type": "stream",
     "text": [
      "{'China': 86, 'India': 91, 'United States': 1, 'Indonesia': 62}\n",
      "{86: 'China', 91: 'India', 62: 'Indonesia'}\n"
     ]
    }
   ],
   "source": [
    "DIAL_CODES = [(86, 'China'),\n",
    "              (91, 'India'),\n",
    "              (1, 'United States'),\n",
    "              (62, 'Indonesia')]\n",
    "country_codes = {country:code for code, country in DIAL_CODES}\n",
    "print(country_codes)\n",
    "\n",
    "codes_country ={code:country for code, country in DIAL_CODES  if code > 50 }\n",
    "print(codes_country)"
   ]
  },
  {
   "attachments": {},
   "cell_type": "markdown",
   "metadata": {},
   "source": [
    "## 3.3 常见的映射方法\n",
    "映射类型的方法： dict、collections.defaultdict和collections.OrderedDict"
   ]
  },
  {
   "cell_type": "code",
   "execution_count": 14,
   "metadata": {},
   "outputs": [
    {
     "name": "stdout",
     "output_type": "stream",
     "text": [
      "{'one': [1, 2]}\n",
      "{'one': [1, 2, 3]}\n"
     ]
    }
   ],
   "source": [
    "# 用setdefauflt处理找不到的键\n",
    "'''\n",
    "当字典 d[k] 不能找到正确的键的时候，Python 会抛出异常，这个行为符合 Python 所信奉的\n",
    "“快速失败”哲学。也许每个 Python 程序员都知道可以用 d.get(k, default) 来代替 d[k]，\n",
    "给找不到的键一个默认的返回值（这比处理 KeyError 要方便不少）。但是要更新某个键对应\n",
    "的值的时候，不管使用 __getitem__ 还是 get 都会不自然，而且效率低。\n",
    "'''\n",
    "d = {'one':[1]}\n",
    "\n",
    "d.setdefault('one', [1]).append(2)\n",
    "print(d)\n",
    "# 上下效果等价，只不过后者至少要进行两次键查询——如果键不存在的话，就是三次，用 setdefault 只需要一次就可以完成整个操作。\n",
    "if 'one' not in dict:\n",
    "    d['one']=[1]\n",
    "d['one'].append(3)\n",
    "print(d)"
   ]
  },
  {
   "attachments": {},
   "cell_type": "markdown",
   "metadata": {},
   "source": [
    "## 3.4 映射的弹性键查询\n",
    "有时候为了方便起见，就算某个键在映射里不存在，我们也希望在通过这个键读取值的时候能得到一个默认值。有两个途径能帮我们达到这个目的，一个是通过 defaultdict 这个类型而不是普通的 dict，另一个是给自己定义一个 dict 的子类，然后在子类中实现__missing__ 方法。\n",
    "### 3.4.1 defaultdict:处理找不到的键的一个选择"
   ]
  },
  {
   "cell_type": "code",
   "execution_count": 18,
   "metadata": {},
   "outputs": [
    {
     "data": {
      "text/plain": [
       "[]"
      ]
     },
     "execution_count": 18,
     "metadata": {},
     "output_type": "execute_result"
    }
   ],
   "source": [
    "import collections\n",
    "index = collections.defaultdict(list)\n",
    "index['one']"
   ]
  },
  {
   "attachments": {},
   "cell_type": "markdown",
   "metadata": {},
   "source": [
    "### 3.4.2 特殊方法__missing__"
   ]
  },
  {
   "cell_type": "code",
   "execution_count": 4,
   "metadata": {},
   "outputs": [
    {
     "data": {
      "text/plain": [
       "2"
      ]
     },
     "execution_count": 4,
     "metadata": {},
     "output_type": "execute_result"
    }
   ],
   "source": [
    "\n",
    "class StrKeyDict0(dict):\n",
    "    def __missing__(self, key):\n",
    "        if isinstance(key, str):\n",
    "            raise KeyError(key)\n",
    "        return self[str(key)]\n",
    "    def get(self, key, default=None):\n",
    "        try:\n",
    "            return self[key]\n",
    "        except KeyError:\n",
    "            return default\n",
    "    def __contains__(self, key):\n",
    "        return key in self.keys() or str(key) in self.keys()\n",
    "\n",
    "\n",
    "d = StrKeyDict0({'1':1, '2':2, '3':3})\n",
    "d[2]"
   ]
  },
  {
   "attachments": {},
   "cell_type": "markdown",
   "metadata": {},
   "source": [
    "## 3.5 字典的变种\n",
    "- collections.OrderedDict \n",
    "   \n",
    "这个类型在添加键的时候会保持顺序，因此键的迭代次序总是一致的。OrderedDict的 popitem 方法默认删除并返回的是字典里的最后一个元素，但是如果像 my_odict.popitem(last=False) 这样调用它，那么它删除并返回第一个被添加进去的元素。\n",
    "\n",
    "- collections.ChainMap  \n",
    "\n",
    "该类型可以容纳数个不同的映射对象，然后在进行键查找操作的时候，这些对象会被当作一个整体被逐个查找，直到键被找到为止。这个功能在给有嵌套作用域的语言做解释器的时候很有用，可以用一个映射对象来代表一个作用域的上下文。\n",
    "\n",
    "- collections.Counter\n",
    "  \n",
    "这个映射类型会给键准备一个整数计数器。每次更新一个键的时候都会增加这个计数器。所以这个类型可以用来给可散列表对象计数，或者是当成多重集来用——多重集合就是集合里的元素可以出现不止一次。Counter 实现了 + 和 - 运算符用来合并记录，还有像 most_common([n]) 这类很有用的方法。most_common([n]) 会按照次序返回映射里最常见的 n 个键和它们的计数。\n",
    "\n",
    "## 3.6子类化UserDict\n"
   ]
  },
  {
   "cell_type": "code",
   "execution_count": null,
   "metadata": {},
   "outputs": [],
   "source": [
    "import collections\n",
    "class StrKeyDict(collections.UserDict):\n",
    "\n",
    "    def __missing__(self,key):\n",
    "        if isinstance(key,str):\n",
    "            raise KeyError(key)\n",
    "        return self[str(key)]\n",
    "    \n",
    "    def __contains__(self, key):\n",
    "        return str(key) in self.data\n",
    "    \n",
    "    def __setitem__(self, key, item):\n",
    "        self.data[str(key)] = item\n"
   ]
  },
  {
   "attachments": {},
   "cell_type": "markdown",
   "metadata": {},
   "source": [
    "## 3.7 不可变映射类型"
   ]
  },
  {
   "cell_type": "code",
   "execution_count": 7,
   "metadata": {},
   "outputs": [
    {
     "name": "stdout",
     "output_type": "stream",
     "text": [
      "A\n"
     ]
    },
    {
     "ename": "TypeError",
     "evalue": "'mappingproxy' object does not support item assignment",
     "output_type": "error",
     "traceback": [
      "\u001b[1;31m---------------------------------------------------------------------------\u001b[0m",
      "\u001b[1;31mTypeError\u001b[0m                                 Traceback (most recent call last)",
      "Cell \u001b[1;32mIn[7], line 5\u001b[0m\n\u001b[0;32m      3\u001b[0m d_proxy \u001b[39m=\u001b[39m MappingProxyType(d)\n\u001b[0;32m      4\u001b[0m \u001b[39mprint\u001b[39m(d_proxy[\u001b[39m'\u001b[39m\u001b[39m1\u001b[39m\u001b[39m'\u001b[39m])\n\u001b[1;32m----> 5\u001b[0m d_proxy[\u001b[39m'\u001b[39;49m\u001b[39m2\u001b[39;49m\u001b[39m'\u001b[39;49m] \u001b[39m=\u001b[39m \u001b[39m'\u001b[39m\u001b[39mX\u001b[39m\u001b[39m'\u001b[39m\n",
      "\u001b[1;31mTypeError\u001b[0m: 'mappingproxy' object does not support item assignment"
     ]
    }
   ],
   "source": [
    "from types import MappingProxyType\n",
    "d = {'1':'A'}\n",
    "d_proxy = MappingProxyType(d)\n",
    "print(d_proxy['1'])\n",
    "d_proxy['2'] = 'X'"
   ]
  },
  {
   "cell_type": "code",
   "execution_count": 10,
   "metadata": {},
   "outputs": [
    {
     "name": "stdout",
     "output_type": "stream",
     "text": [
      "{'1': 'A', '2': 'B'}\n",
      "B\n"
     ]
    }
   ],
   "source": [
    "d['2'] = 'B'\n",
    "print(d_proxy)\n",
    "print(d_proxy['2'])"
   ]
  },
  {
   "attachments": {},
   "cell_type": "markdown",
   "metadata": {},
   "source": [
    "## 3.8 集合论\n",
    "集合的本质是许多唯一对象的聚集。因此，集合可以用于去重。"
   ]
  },
  {
   "cell_type": "code",
   "execution_count": 15,
   "metadata": {},
   "outputs": [
    {
     "data": {
      "text/plain": [
       "True"
      ]
     },
     "execution_count": 15,
     "metadata": {},
     "output_type": "execute_result"
    }
   ],
   "source": [
    "set1 = set([1, 2, 3, 4, 5])\n",
    "set2 = set([3, 4, 5, 6, 7, 8])\n",
    "################################\n",
    "\n",
    "found1 = len(set1 & set2)\n",
    "\n",
    "################################\n",
    "\n",
    "found2 = 0\n",
    "for n in set1:\n",
    "    if n in set2:\n",
    "        found2 += 1\n",
    "\n",
    "################################\n",
    "\n",
    "found3 = len(set1.intersection(set2))\n",
    "\n",
    "################################\n",
    "found1 == found2 == found3"
   ]
  },
  {
   "attachments": {},
   "cell_type": "markdown",
   "metadata": {},
   "source": [
    "### 3.8.1 集合字面量\n",
    "\n"
   ]
  },
  {
   "cell_type": "code",
   "execution_count": 20,
   "metadata": {},
   "outputs": [
    {
     "name": "stdout",
     "output_type": "stream",
     "text": [
      "<class 'set'>\n",
      "frozenset({0, 1, 2, 3, 4, 5, 6, 7, 8, 9})\n"
     ]
    }
   ],
   "source": [
    "s = {1,2,3}\n",
    "print(type(s))\n",
    "print(frozenset(range(10)))"
   ]
  },
  {
   "attachments": {},
   "cell_type": "markdown",
   "metadata": {},
   "source": [
    "### 3.8.2 集合推导"
   ]
  },
  {
   "cell_type": "code",
   "execution_count": 22,
   "metadata": {},
   "outputs": [
    {
     "name": "stdout",
     "output_type": "stream",
     "text": [
      "{'£', '+', '±', '%', '°', '§', '×', '$', '¶', '>', '=', '®', '#', '¬', 'µ', '<', '¢', '¤', '÷', '¥', '©'}\n"
     ]
    }
   ],
   "source": [
    "from unicodedata import name\n",
    "print({chr(i) for i in range(32, 256) if 'SIGN' in name(chr(i),'')})"
   ]
  },
  {
   "cell_type": "markdown",
   "metadata": {},
   "source": [
    "### 3.8.3 集合的操作"
   ]
  },
  {
   "cell_type": "code",
   "execution_count": 37,
   "metadata": {},
   "outputs": [
    {
     "name": "stdout",
     "output_type": "stream",
     "text": [
      "{1, 2, 3, 4, 5, 6, 7, 8}\n",
      "{3, 4, 5}\n",
      "{1, 2}\n",
      "{1, 2, 6, 7, 8}\n"
     ]
    }
   ],
   "source": [
    "set1 = set([1, 2, 3, 4, 5])\n",
    "set2 = set([3, 4, 5, 6, 7, 8])\n",
    "print(set1 | set2) # 合集       set1.union(set2)\n",
    "print(set1 & set2) # 交集       set1.intersection(set2)\n",
    "print(set1 - set2) # 差集       set1.difference(set2)\n",
    "print(set1 ^ set2) # 对称差集   set1.symmetric_difference(set2)\n"
   ]
  },
  {
   "attachments": {},
   "cell_type": "markdown",
   "metadata": {},
   "source": [
    "# 4 文本和字节序列\n",
    "## 4.1 字符问题"
   ]
  },
  {
   "cell_type": "code",
   "execution_count": 39,
   "metadata": {},
   "outputs": [
    {
     "name": "stdout",
     "output_type": "stream",
     "text": [
      "4\n",
      "b'caf\\xc3\\xa9' 5 café\n"
     ]
    }
   ],
   "source": [
    "s = 'café'\n",
    "print(len(s))\n",
    "b = s.encode()\n",
    "print(b,len(b),b.decode())"
   ]
  },
  {
   "attachments": {},
   "cell_type": "markdown",
   "metadata": {},
   "source": [
    "## 4.2 字节概要"
   ]
  },
  {
   "cell_type": "code",
   "execution_count": 4,
   "metadata": {},
   "outputs": [
    {
     "name": "stdout",
     "output_type": "stream",
     "text": [
      "b'caf\\xc3\\xa9' \n",
      " 99 \n",
      " b'c'\n"
     ]
    }
   ],
   "source": [
    "cafe = bytes('café', encoding='utf-8')\n",
    "print(cafe,'\\n',cafe[0],'\\n',cafe[:1])\n"
   ]
  },
  {
   "cell_type": "code",
   "execution_count": 39,
   "metadata": {},
   "outputs": [
    {
     "data": {
      "text/html": [
       "<div>\n",
       "<style scoped>\n",
       "    .dataframe tbody tr th:only-of-type {\n",
       "        vertical-align: middle;\n",
       "    }\n",
       "\n",
       "    .dataframe tbody tr th {\n",
       "        vertical-align: top;\n",
       "    }\n",
       "\n",
       "    .dataframe thead th {\n",
       "        text-align: right;\n",
       "    }\n",
       "</style>\n",
       "<table border=\"1\" class=\"dataframe\">\n",
       "  <thead>\n",
       "    <tr style=\"text-align: right;\">\n",
       "      <th></th>\n",
       "      <th>0</th>\n",
       "      <th>1</th>\n",
       "    </tr>\n",
       "    <tr>\n",
       "      <th>x</th>\n",
       "      <th></th>\n",
       "      <th></th>\n",
       "    </tr>\n",
       "  </thead>\n",
       "  <tbody>\n",
       "    <tr>\n",
       "      <th>A</th>\n",
       "      <td>0.5</td>\n",
       "      <td>0.5</td>\n",
       "    </tr>\n",
       "    <tr>\n",
       "      <th>B</th>\n",
       "      <td>0.0</td>\n",
       "      <td>1.0</td>\n",
       "    </tr>\n",
       "    <tr>\n",
       "      <th>C</th>\n",
       "      <td>1.0</td>\n",
       "      <td>0.0</td>\n",
       "    </tr>\n",
       "    <tr>\n",
       "      <th>E</th>\n",
       "      <td>1.0</td>\n",
       "      <td>0.0</td>\n",
       "    </tr>\n",
       "    <tr>\n",
       "      <th>F</th>\n",
       "      <td>1.0</td>\n",
       "      <td>0.0</td>\n",
       "    </tr>\n",
       "    <tr>\n",
       "      <th>G</th>\n",
       "      <td>0.0</td>\n",
       "      <td>1.0</td>\n",
       "    </tr>\n",
       "    <tr>\n",
       "      <th>H</th>\n",
       "      <td>0.0</td>\n",
       "      <td>1.0</td>\n",
       "    </tr>\n",
       "  </tbody>\n",
       "</table>\n",
       "</div>"
      ],
      "text/plain": [
       "     0    1\n",
       "x          \n",
       "A  0.5  0.5\n",
       "B  0.0  1.0\n",
       "C  1.0  0.0\n",
       "E  1.0  0.0\n",
       "F  1.0  0.0\n",
       "G  0.0  1.0\n",
       "H  0.0  1.0"
      ]
     },
     "execution_count": 39,
     "metadata": {},
     "output_type": "execute_result"
    }
   ],
   "source": [
    "import pandas as pd\n",
    "\n",
    "def goodbad(df):\n",
    "    names = {'0': (df['y']==0).sum() / len(df['y']),\n",
    "             '1': (df['y']==1).sum() / len(df['y'])}\n",
    "    return pd.Series(names)\n",
    "\n",
    "data = pd.DataFrame({'x':['A','A','C','B','E','F','G','H'],\n",
    "                     'y':[0,1,0,1,0,0,1,1]})\n",
    "\n",
    "data.groupby('x').apply(goodbad)"
   ]
  },
  {
   "cell_type": "markdown",
   "metadata": {},
   "source": [
    "# 第5章 一等函数\n",
    "- 在运行时创建\n",
    "- 能赋值给变量或数据结构中的元素\n",
    "- 能作为参数传给函数\n",
    "- 能作为函数的返回结果\n",
    "## 5.1 把函数视为对象"
   ]
  },
  {
   "cell_type": "code",
   "execution_count": 2,
   "metadata": {},
   "outputs": [
    {
     "data": {
      "text/plain": [
       "(3628800, 'return n!', function)"
      ]
     },
     "execution_count": 2,
     "metadata": {},
     "output_type": "execute_result"
    }
   ],
   "source": [
    "def factorial(n):\n",
    "    \"return n!\"\n",
    "    return 1 if n < 2 else n*factorial(n-1)\n",
    "\n",
    "factorial(10),factorial.__doc__,type(factorial)"
   ]
  },
  {
   "cell_type": "code",
   "execution_count": 3,
   "metadata": {},
   "outputs": [
    {
     "data": {
      "text/plain": [
       "<function __main__.factorial(n)>"
      ]
     },
     "execution_count": 3,
     "metadata": {},
     "output_type": "execute_result"
    }
   ],
   "source": [
    "fact = factorial\n",
    "fact"
   ]
  },
  {
   "cell_type": "code",
   "execution_count": 4,
   "metadata": {},
   "outputs": [
    {
     "data": {
      "text/plain": [
       "120"
      ]
     },
     "execution_count": 4,
     "metadata": {},
     "output_type": "execute_result"
    }
   ],
   "source": [
    "fact(5)"
   ]
  },
  {
   "cell_type": "code",
   "execution_count": 5,
   "metadata": {},
   "outputs": [
    {
     "data": {
      "text/plain": [
       "<map at 0x2088a7bcdc0>"
      ]
     },
     "execution_count": 5,
     "metadata": {},
     "output_type": "execute_result"
    }
   ],
   "source": [
    "map(factorial,range(10))"
   ]
  },
  {
   "cell_type": "code",
   "execution_count": 6,
   "metadata": {},
   "outputs": [
    {
     "data": {
      "text/plain": [
       "[1, 1, 2, 6, 24, 120, 720, 5040, 40320, 362880]"
      ]
     },
     "execution_count": 6,
     "metadata": {},
     "output_type": "execute_result"
    }
   ],
   "source": [
    "list(map(factorial,range(10)))"
   ]
  },
  {
   "cell_type": "markdown",
   "metadata": {},
   "source": [
    "## 5.2 高阶函数\n",
    "接受函数为参数，或者把函数作为结果返回的函数是高阶函数"
   ]
  },
  {
   "cell_type": "code",
   "execution_count": 8,
   "metadata": {},
   "outputs": [
    {
     "data": {
      "text/plain": [
       "['fig', 'apple', 'cherry', 'banana', 'raspberry', 'strawberry']"
      ]
     },
     "execution_count": 8,
     "metadata": {},
     "output_type": "execute_result"
    }
   ],
   "source": [
    "# 示例：根据单词长度给一个列表排序\n",
    "fruits = ['strawberry', 'fig', 'apple', 'cherry', 'raspberry', 'banana']\n",
    "sorted(fruits,key=len)"
   ]
  },
  {
   "cell_type": "code",
   "execution_count": 9,
   "metadata": {},
   "outputs": [
    {
     "data": {
      "text/plain": [
       "['banana', 'apple', 'fig', 'raspberry', 'strawberry', 'cherry']"
      ]
     },
     "execution_count": 9,
     "metadata": {},
     "output_type": "execute_result"
    }
   ],
   "source": [
    "# 示例：根据反向拼写给一个单词列表排序\n",
    "def reverse(word:str):\n",
    "    return word[::-1]\n",
    "sorted(fruits, key=reverse)"
   ]
  },
  {
   "cell_type": "code",
   "execution_count": 11,
   "metadata": {},
   "outputs": [
    {
     "name": "stdout",
     "output_type": "stream",
     "text": [
      "[1, 1, 2, 6, 24, 120]\n",
      "[1, 1, 2, 6, 24, 120]\n",
      "[1, 6, 120]\n",
      "[1, 6, 120]\n"
     ]
    }
   ],
   "source": [
    "# map、filter和reduce的现代替代品\n",
    "# 示例：计算阶乘列表：map和filter与列表推导比较\n",
    "temp = list(map(fact,range(6))) # 构建 0! 到 5! 的一个阶乘列表。\n",
    "print(temp)\n",
    "temp = [fact(x) for x in range(6)] # 使用列表推导执行相同的操作。\n",
    "print(temp)\n",
    "temp = list(map(factorial,filter(lambda x:x % 2,range(6)))) # 使用 map 和 filter 计算直到 5! 的奇数阶乘列表。\n",
    "print(temp)\n",
    "temp = [factorial(x) for x in range(6) if x % 2] # 使用列表推导做相同的工作，换掉 map 和 filter，并避免了使用 lambda 表达式。\n",
    "print(temp)"
   ]
  },
  {
   "cell_type": "code",
   "execution_count": 12,
   "metadata": {},
   "outputs": [
    {
     "data": {
      "text/plain": [
       "(4950, 4950)"
      ]
     },
     "execution_count": 12,
     "metadata": {},
     "output_type": "execute_result"
    }
   ],
   "source": [
    "# 示例：使用reduce和sum计算0~99之和\n",
    "# 从 Python 3.0 起，reduce 不再是内置函数了。\n",
    "# 导入 add，以免创建一个专求两数之和的函数。\n",
    "# 计算 0~99 之和。\n",
    "# 使用 sum 做相同的求和；无需导入或创建求和函数。\n",
    "from functools import reduce\n",
    "from operator import add\n",
    "reduce(add, range(100)), sum(range(100))"
   ]
  },
  {
   "cell_type": "markdown",
   "metadata": {},
   "source": [
    "## 5.3 匿名函数\n",
    "lambda 关键字在 Python 表达式内创建匿名函数。"
   ]
  },
  {
   "cell_type": "code",
   "execution_count": 21,
   "metadata": {},
   "outputs": [
    {
     "data": {
      "text/plain": [
       "['banana', 'apple', 'fig', 'raspberry', 'strawberry', 'cherry']"
      ]
     },
     "execution_count": 21,
     "metadata": {},
     "output_type": "execute_result"
    }
   ],
   "source": [
    "# 示例：使用lambda表达式反转拼写，然后依此给单词排序\n",
    "fruits = ['strawberry', 'fig', 'apple', 'cherry', 'raspberry', 'banana']\n",
    "sorted(fruits, key=lambda x:x[::-1])"
   ]
  },
  {
   "cell_type": "markdown",
   "metadata": {},
   "source": [
    "## 5.4 可调用对象\n",
    "- **用户定义的函数**：使用def语句或lambda表达式创建\n",
    "- **内置函数**：使用C语言实现的函数，如len或str.strftime\n",
    "- **内置方法**：使用C语言实现的方法，如dict.get\n",
    "- **方法**：在类的定义体中定义的函数\n",
    "- **类**：调用类时会运行类的 \\_\\_new\\_\\_ 方法创建一个实例，然后运行 \\_\\_init\\_\\_ 方法，初始化实例，最后把实例返回给调用方。因为 Python 没有 new 运算符，所以调用类相当于调用函数。\n",
    "- **类的实例**：如果类定义了 \\_\\_call\\_\\_ 方法，那么它的实例可以作为函数调用\n",
    "- **生成器函数**：使用 yield 关键字的函数或方法。调用生成器函数返回的是生成器对象。"
   ]
  },
  {
   "cell_type": "markdown",
   "metadata": {},
   "source": [
    "## 5.5 用户定义的可调用类型"
   ]
  },
  {
   "cell_type": "code",
   "execution_count": 23,
   "metadata": {},
   "outputs": [
    {
     "name": "stdout",
     "output_type": "stream",
     "text": [
      "2\n",
      "0\n",
      "True\n"
     ]
    }
   ],
   "source": [
    "# 示例：调用BingoCage实例，从打乱的列表中取出一个元素\n",
    "import random\n",
    "from typing import Any\n",
    "class BingoCage:\n",
    "    def __init__(self,items):\n",
    "        self._items = list(items)\n",
    "        random.shuffle(self._items)\n",
    "    \n",
    "    def pick(self):\n",
    "        try:\n",
    "            return self._items.pop()\n",
    "        except IndexError:\n",
    "            raise LookupError('pick from empty BingoCage')\n",
    "    \n",
    "    def __call__(self):\n",
    "        return self.pick()\n",
    "\n",
    "bingo = BingoCage(range(3))\n",
    "print(bingo.pick())\n",
    "print(bingo())\n",
    "print(callable(bingo))\n"
   ]
  },
  {
   "cell_type": "markdown",
   "metadata": {},
   "source": [
    "## 5.6 函数内省"
   ]
  },
  {
   "cell_type": "code",
   "execution_count": 24,
   "metadata": {},
   "outputs": [
    {
     "data": {
      "text/plain": [
       "['__annotations__',\n",
       " '__call__',\n",
       " '__closure__',\n",
       " '__code__',\n",
       " '__defaults__',\n",
       " '__get__',\n",
       " '__globals__',\n",
       " '__kwdefaults__',\n",
       " '__name__',\n",
       " '__qualname__']"
      ]
     },
     "execution_count": 24,
     "metadata": {},
     "output_type": "execute_result"
    }
   ],
   "source": [
    "# 示例：列出常规对象没有而函数有的属性\n",
    "class C:pass\n",
    "obj = C()\n",
    "def func():pass\n",
    "sorted(set(dir(func))-set(dir(obj)))"
   ]
  },
  {
   "cell_type": "code",
   "execution_count": null,
   "metadata": {},
   "outputs": [],
   "source": []
  }
 ],
 "metadata": {
  "kernelspec": {
   "display_name": "base",
   "language": "python",
   "name": "python3"
  },
  "language_info": {
   "codemirror_mode": {
    "name": "ipython",
    "version": 3
   },
   "file_extension": ".py",
   "mimetype": "text/x-python",
   "name": "python",
   "nbconvert_exporter": "python",
   "pygments_lexer": "ipython3",
   "version": "3.9.12"
  },
  "orig_nbformat": 4
 },
 "nbformat": 4,
 "nbformat_minor": 2
}
