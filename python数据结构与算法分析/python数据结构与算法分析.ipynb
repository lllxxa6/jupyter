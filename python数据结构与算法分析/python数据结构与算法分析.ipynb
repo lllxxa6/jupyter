{
 "cells": [
  {
   "cell_type": "code",
   "execution_count": 2,
   "metadata": {
    "ExecuteTime": {
     "end_time": "2023-03-20T08:24:43.697046Z",
     "start_time": "2023-03-20T08:24:41.967167Z"
    }
   },
   "outputs": [],
   "source": [
    "%matplotlib inline"
   ]
  },
  {
   "cell_type": "markdown",
   "metadata": {},
   "source": [
    "# 栈(Stack)\n",
    ">**栈**是有序集合，添加操作和移除操作总发生在同一端，即“顶端”，另一端则被称为“底端”。栈中的元素离底端越近，代表其在栈中的时间越长，因此栈的底端具有非常重要的意义。最新添加的元素将被最先移除。这种排序原则被称作**LIFO**（last-in first-out），即后进先出。"
   ]
  },
  {
   "cell_type": "code",
   "execution_count": 43,
   "metadata": {
    "ExecuteTime": {
     "end_time": "2023-03-14T07:17:32.287732Z",
     "start_time": "2023-03-14T07:17:32.273040Z"
    }
   },
   "outputs": [],
   "source": [
    "# 栈类的实现\n",
    "class Stack:\n",
    "    def __init__(self):\n",
    "        self.items = []\n",
    "\n",
    "    def isEmpty(self):\n",
    "        return self.items == []\n",
    "\n",
    "    def push(self, item):\n",
    "        self.items.append(item)\n",
    "\n",
    "    def pop(self):\n",
    "        return self.items.pop()\n",
    "\n",
    "    def peek(self):\n",
    "        return self.items[-1]\n",
    "\n",
    "    def size(self):\n",
    "        return len(self.items)"
   ]
  },
  {
   "cell_type": "markdown",
   "metadata": {},
   "source": [
    "## 栈类的应用（匹配符号对）"
   ]
  },
  {
   "cell_type": "code",
   "execution_count": 42,
   "metadata": {
    "ExecuteTime": {
     "end_time": "2023-03-14T06:54:18.597247Z",
     "start_time": "2023-03-14T06:54:18.582088Z"
    }
   },
   "outputs": [
    {
     "data": {
      "text/plain": [
       "True"
      ]
     },
     "execution_count": 42,
     "metadata": {},
     "output_type": "execute_result"
    }
   ],
   "source": [
    "def match(open, close):\n",
    "    \"\"\"\n",
    "    符号匹配\n",
    "    \"\"\"\n",
    "    opens = \"({[\"\n",
    "    closes = \")}]\"\n",
    "    return opens.index(open) == closes.index(close)\n",
    "\n",
    "\n",
    "def parChecker(symbolString):\n",
    "    \"\"\"\n",
    "    如果遇到左括号，便通过 push 操作将其加入栈中，以此表示稍后需要有一个与之匹配的右括号。反之，如果遇到右括号，就调用 pop 操作。\n",
    "    \"\"\"\n",
    "    s = Stack()\n",
    "    balanced = True\n",
    "    index = 0\n",
    "    while index < len(symbolString) and balanced:\n",
    "        symbol = symbolString[index]\n",
    "        if symbol in \"({[\":\n",
    "            s.push(symbol)\n",
    "        elif symbol in \")}]\":\n",
    "            if s.isEmpty():\n",
    "                balanced = False\n",
    "            else:\n",
    "                top = s.pop()\n",
    "                if not match(top, symbol):\n",
    "                    balanced = False\n",
    "        index = index + 1\n",
    "    if s.isEmpty() and balanced:\n",
    "        return True\n",
    "    else:\n",
    "        return False\n",
    "\n",
    "\n",
    "symbolString = \"(({1[]})((2)(3)))\"\n",
    "parChecker(symbolString)"
   ]
  },
  {
   "cell_type": "markdown",
   "metadata": {
    "ExecuteTime": {
     "end_time": "2023-03-14T06:41:30.258982Z",
     "start_time": "2023-03-14T06:41:30.245983Z"
    }
   },
   "source": [
    "# 队列(Queue)\n",
    ">**队列**是有序集合，添加操作发生在“尾部”，移除操作则发生在“头部”。新元素从尾部进入队列，然后一直向前移动到头部，直到成为下一个被移除的元素。最新添加的元素必须在队列的尾部等待，在队列中时间最长的元素则排在最前面。这种排序原则被称作**FIFO**（first-in first-out），即先进先出，也称先到先得。"
   ]
  },
  {
   "cell_type": "code",
   "execution_count": 44,
   "metadata": {
    "ExecuteTime": {
     "end_time": "2023-03-14T07:19:57.890354Z",
     "start_time": "2023-03-14T07:19:57.874355Z"
    },
    "code_folding": []
   },
   "outputs": [],
   "source": [
    "class Queue:\n",
    "    def __init__(self):\n",
    "        self.items = []\n",
    "\n",
    "    def isEmpty(self):\n",
    "        return self.items == []\n",
    "\n",
    "    def enqueue(self, item):\n",
    "        self.items.insert(0, item)\n",
    "\n",
    "    def dequeue(self):\n",
    "        return self.items.pop()\n",
    "\n",
    "    def size(self):\n",
    "        return len(self.items)"
   ]
  },
  {
   "cell_type": "markdown",
   "metadata": {},
   "source": [
    "# 树"
   ]
  },
  {
   "cell_type": "code",
   "execution_count": 173,
   "metadata": {
    "ExecuteTime": {
     "end_time": "2023-03-14T09:12:56.139182Z",
     "start_time": "2023-03-14T09:12:56.128183Z"
    }
   },
   "outputs": [],
   "source": [
    "class TreeNode:\n",
    "    def __init__(self, name, value=0, parent=None):\n",
    "        self.name = name\n",
    "        self.value = value\n",
    "        self.parent = parent\n",
    "        if parent:\n",
    "            parent.child[name] = self\n",
    "        self.child = {}\n",
    "\n",
    "    def values(self):\n",
    "        if self.child:\n",
    "            return {k: v.values() for k, v in self.child.items()}\n",
    "        else:\n",
    "            return self.value"
   ]
  },
  {
   "cell_type": "code",
   "execution_count": 174,
   "metadata": {
    "ExecuteTime": {
     "end_time": "2023-03-14T09:12:56.340281Z",
     "start_time": "2023-03-14T09:12:56.335287Z"
    }
   },
   "outputs": [],
   "source": [
    "a = TreeNode(\"根节点\", 30)"
   ]
  },
  {
   "cell_type": "code",
   "execution_count": 175,
   "metadata": {
    "ExecuteTime": {
     "end_time": "2023-03-14T09:12:56.665961Z",
     "start_time": "2023-03-14T09:12:56.658953Z"
    }
   },
   "outputs": [],
   "source": [
    "b = TreeNode(\"子结点1\", 10, a)\n",
    "c = TreeNode(\"子结点2\", 20, a)\n",
    "d = TreeNode(\"子结点3\", 5, b)\n",
    "e = TreeNode(\"子结点4\", 5, b)"
   ]
  },
  {
   "cell_type": "code",
   "execution_count": 176,
   "metadata": {
    "ExecuteTime": {
     "end_time": "2023-03-14T09:12:57.038159Z",
     "start_time": "2023-03-14T09:12:57.028152Z"
    }
   },
   "outputs": [
    {
     "data": {
      "text/plain": [
       "{'子结点1': {'子结点3': 5, '子结点4': 5}, '子结点2': 20}"
      ]
     },
     "execution_count": 176,
     "metadata": {},
     "output_type": "execute_result"
    }
   ],
   "source": [
    "a.values()"
   ]
  },
  {
   "cell_type": "markdown",
   "metadata": {},
   "source": [
    "# 递归\n",
    "> 递归的逻辑并不是循环，而是将问题分解成更小、更容易解决的子问题。"
   ]
  },
  {
   "cell_type": "markdown",
   "metadata": {},
   "source": [
    "## 汉诺塔"
   ]
  },
  {
   "cell_type": "code",
   "execution_count": 1,
   "metadata": {
    "ExecuteTime": {
     "end_time": "2023-03-20T06:53:33.291370Z",
     "start_time": "2023-03-20T06:53:33.272371Z"
    }
   },
   "outputs": [
    {
     "name": "stdout",
     "output_type": "stream",
     "text": [
      "A->C\n",
      "A->B\n",
      "C->B\n",
      "A->C\n",
      "B->A\n",
      "B->C\n",
      "A->C\n"
     ]
    }
   ],
   "source": [
    "\"\"\"\n",
    "A,B,C三个柱子，最终实现A->C\n",
    "\"\"\"\n",
    "\n",
    "\n",
    "def Tower(h: int, A, B, C):\n",
    "    if h > 0:\n",
    "        Tower(h - 1, A, C, B)\n",
    "        print(\"{}->{}\".format(A, C))\n",
    "        Tower(h - 1, B, A, C)\n",
    "\n",
    "\n",
    "Tower(3, \"A\", \"B\", \"C\")"
   ]
  },
  {
   "cell_type": "markdown",
   "metadata": {},
   "source": [
    "## 谢尔平斯基三角形"
   ]
  },
  {
   "cell_type": "code",
   "execution_count": 37,
   "metadata": {
    "ExecuteTime": {
     "end_time": "2023-03-20T09:16:53.688603Z",
     "start_time": "2023-03-20T09:13:08.004572Z"
    }
   },
   "outputs": [],
   "source": [
    "import turtle\n",
    "\n",
    "\n",
    "def med(a, b):\n",
    "    return ((a[0] + b[0]) / 2, (a[1] + b[1]) / 2)\n",
    "\n",
    "\n",
    "def sanjiao(n, A, B, C):\n",
    "    if n > 0:\n",
    "        a = med(A, B)\n",
    "        b = med(A, C)\n",
    "        c = med(C, B)\n",
    "        turtle.up()\n",
    "        turtle.goto(a)\n",
    "        turtle.down()\n",
    "        turtle.goto(b)\n",
    "        turtle.goto(c)\n",
    "        turtle.goto(a)\n",
    "        sanjiao(n - 1, A, a, b)\n",
    "        sanjiao(n - 1, b, c, C)\n",
    "        sanjiao(n - 1, a, B, c)\n",
    "\n",
    "\n",
    "A = (-400, -400)\n",
    "B = (0, 400)\n",
    "C = (400, -400)\n",
    "turtle.setup()\n",
    "turtle.up()\n",
    "turtle.goto(A)\n",
    "turtle.down()\n",
    "turtle.goto(B)\n",
    "turtle.goto(C)\n",
    "turtle.goto(A)\n",
    "sanjiao(7, A, B, C)\n",
    "turtle.done()"
   ]
  },
  {
   "cell_type": "markdown",
   "metadata": {},
   "source": [
    "## 动态规划\n",
    "> 核心思想:**拆分子问题，记住过往，减少重复计算**。"
   ]
  },
  {
   "cell_type": "code",
   "execution_count": 19,
   "metadata": {},
   "outputs": [
    {
     "data": {
      "text/plain": [
       "(True, 10)"
      ]
     },
     "execution_count": 19,
     "metadata": {},
     "output_type": "execute_result"
    }
   ],
   "source": []
  }
 ],
 "metadata": {
  "kernelspec": {
   "display_name": "Python 3 (ipykernel)",
   "language": "python",
   "name": "python3"
  },
  "language_info": {
   "codemirror_mode": {
    "name": "ipython",
    "version": 3
   },
   "file_extension": ".py",
   "mimetype": "text/x-python",
   "name": "python",
   "nbconvert_exporter": "python",
   "pygments_lexer": "ipython3",
   "version": "3.9.12"
  },
  "toc": {
   "base_numbering": 1,
   "nav_menu": {},
   "number_sections": true,
   "sideBar": true,
   "skip_h1_title": false,
   "title_cell": "Table of Contents",
   "title_sidebar": "Contents",
   "toc_cell": false,
   "toc_position": {
    "height": "612px",
    "left": "42px",
    "top": "110.525px",
    "width": "236.4px"
   },
   "toc_section_display": true,
   "toc_window_display": true
  },
  "toc-autonumbering": true,
  "toc-showcode": false,
  "toc-showmarkdowntxt": false,
  "toc-showtags": false
 },
 "nbformat": 4,
 "nbformat_minor": 4
}
