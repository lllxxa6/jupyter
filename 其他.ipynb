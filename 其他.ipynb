{
 "cells": [
  {
   "cell_type": "code",
   "execution_count": null,
   "metadata": {},
   "outputs": [],
   "source": [
    "from sklearn.compose import ColumnTransformer\n",
    "from sklearn.preprocessing import OneHotEncoder\n",
    "\n",
    "\n",
    "c_transf = ColumnTransformer([\n",
    "    ('onehot', OneHotEncoder(handle_unknown='ignore'), ['color']),\n",
    "    ('nothing', 'passthrough', ['size', 'price']),\n",
    "])\n",
    "c_transf.fit_transform()"
   ]
  }
 ],
 "metadata": {
  "language_info": {
   "name": "python"
  },
  "orig_nbformat": 4
 },
 "nbformat": 4,
 "nbformat_minor": 2
}
