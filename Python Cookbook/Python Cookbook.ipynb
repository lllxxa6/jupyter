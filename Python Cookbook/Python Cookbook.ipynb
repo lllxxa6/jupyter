{
 "cells": [
  {
   "cell_type": "markdown",
   "metadata": {},
   "source": [
    "# 第8章 类与对象\n",
    "## 8.1 修改实例的字符串表示\n",
    "### 8.1.1 问题\n",
    "修改打印实例所产生的输出，使输出结果能更有意义。\n",
    "### 8.1.2 解决方案\n",
    "通过定义`__str__()`和`__repr__()`来实现"
   ]
  },
  {
   "cell_type": "code",
   "execution_count": 1,
   "metadata": {},
   "outputs": [],
   "source": [
    "class Pair:\n",
    "    def __init__(self,x,y):\n",
    "        self.x = x\n",
    "        self.y = y\n",
    "    \n",
    "    def __repr__(self):\n",
    "        return 'Pair({},{})'.format(self.x,self.y)\n",
    "\n",
    "    def __str__(self):\n",
    "        return '({},{})'.format(self.x,self.y)"
   ]
  },
  {
   "cell_type": "code",
   "execution_count": 2,
   "metadata": {},
   "outputs": [
    {
     "data": {
      "text/plain": [
       "Pair(3,4)"
      ]
     },
     "execution_count": 2,
     "metadata": {},
     "output_type": "execute_result"
    }
   ],
   "source": [
    "p = Pair(3,4)\n",
    "p # __repr__() 输出"
   ]
  },
  {
   "cell_type": "code",
   "execution_count": 3,
   "metadata": {},
   "outputs": [
    {
     "name": "stdout",
     "output_type": "stream",
     "text": [
      "(3,4)\n"
     ]
    }
   ],
   "source": [
    "print(p) # __str__() 输出"
   ]
  },
  {
   "cell_type": "code",
   "execution_count": 4,
   "metadata": {},
   "outputs": [
    {
     "name": "stdout",
     "output_type": "stream",
     "text": [
      "p is Pair(3,4)\n",
      "p is (3,4)\n"
     ]
    }
   ],
   "source": [
    "# 在进行格式化输出时，特殊的格式化代码!r 表示应该使用__repr__()的输出\n",
    "print('p is {0!r}'.format(p))\n",
    "print('p is {0}'.format(p))"
   ]
  },
  {
   "cell_type": "markdown",
   "metadata": {},
   "source": [
    "## 8.2 自定义字符串的输出格式\n",
    "### 8.2.1 问题\n",
    "我们想让对象通过 format()函数和字符串方法来支持自定义的输出格式。\n",
    "### 8.2.2 解决方案\n",
    "要自定义字符串的输出格式，可以在类中定义`__format__()`方法。"
   ]
  },
  {
   "cell_type": "code",
   "execution_count": 8,
   "metadata": {},
   "outputs": [
    {
     "data": {
      "text/plain": [
       "('2023-9-4', '9/4/2023')"
      ]
     },
     "execution_count": 8,
     "metadata": {},
     "output_type": "execute_result"
    }
   ],
   "source": [
    "_formats = {\n",
    "    'ymd': '{d.year}-{d.month}-{d.day}',\n",
    "    'mdy': '{d.month}/{d.day}/{d.year}',\n",
    "    'dmy': '{d.day}/{d.month}/{d.year}'\n",
    "}\n",
    "class Date:\n",
    "    def __init__(self,year,month,day):\n",
    "        self.year = year\n",
    "        self.month = month\n",
    "        self.day = day\n",
    "    \n",
    "    def __format__(self,code) -> str:\n",
    "        if code == '':\n",
    "            code = 'ymd'\n",
    "        fmt = _formats[code]\n",
    "        return fmt.format(d = self)\n",
    "\n",
    "d = Date(year=2023,month=9,day=4)\n",
    "format(d),format(d,'mdy')"
   ]
  },
  {
   "cell_type": "code",
   "execution_count": 9,
   "metadata": {},
   "outputs": [
    {
     "data": {
      "text/plain": [
       "('The date is 2023-9-4', 'The date is 9/4/2023')"
      ]
     },
     "execution_count": 9,
     "metadata": {},
     "output_type": "execute_result"
    }
   ],
   "source": [
    "'The date is {:ymd}'.format(d),'The date is {:mdy}'.format(d)"
   ]
  },
  {
   "cell_type": "markdown",
   "metadata": {},
   "source": [
    "## 8.3 让对象支持上下文管理协议\n",
    "### 8.3.1 问题\n",
    "我们想让对象支持上下文管理协议（通过with语句触发）\n",
    "### 8.3.2 解决方案\n",
    "要让对象能够兼容with语句，与需要实现`__enter__()`和`__exit__()`方法。"
   ]
  },
  {
   "cell_type": "code",
   "execution_count": 11,
   "metadata": {},
   "outputs": [
    {
     "name": "stdout",
     "output_type": "stream",
     "text": [
      "连接成功\n",
      "<socket.socket fd=1360, family=AddressFamily.AF_INET, type=SocketKind.SOCK_STREAM, proto=0, laddr=('192.168.177.77', 52602), raddr=('180.101.50.242', 80)>\n"
     ]
    }
   ],
   "source": [
    "from socket import socket, AF_INET, SOCK_STREAM\n",
    "\n",
    "class LazyConnection:\n",
    "    def __init__(self, address ,family = AF_INET, type = SOCK_STREAM):\n",
    "        self.address = address\n",
    "        self.family = AF_INET\n",
    "        self.type = SOCK_STREAM\n",
    "        self.connections = []\n",
    "    \n",
    "    def __enter__(self):\n",
    "        sock = socket(self.family, self.type)\n",
    "        sock.connect(self.address)\n",
    "        self.connections.append(sock)\n",
    "        return sock\n",
    "    \n",
    "    def __exit__(self, exc_ty, exc_val, tb):\n",
    "        self.connections.pop().close()\n",
    "\n",
    "conn = LazyConnection(('www.baidu.com', 80))\n",
    "with conn as s1:\n",
    "    print('连接成功')\n",
    "    print(s1)\n"
   ]
  },
  {
   "cell_type": "markdown",
   "metadata": {},
   "source": [
    "## 8.4 当创建大量实例时如何节省内存\n",
    "### 8.4.1 问题\n",
    "我们的程序创建了大量的（比如百万级）实例，为此占用了大量的内存\n",
    "### 8.4.2 解决方案\n",
    "对于那些主要用作简单数据结构的类，通常可以在类定义中增加`__slot__`属性，以此来大量减少对内存的使用。"
   ]
  },
  {
   "cell_type": "code",
   "execution_count": 12,
   "metadata": {},
   "outputs": [],
   "source": [
    "# 我们被限制为只允许使用__slots__中列出的那些属性名\n",
    "class Date:\n",
    "    __slot__ = ['year', 'month', 'day']\n",
    "    def __init__(self, year, month, day):\n",
    "        self.year = year\n",
    "        self.month = month\n",
    "        self.day = day"
   ]
  },
  {
   "cell_type": "markdown",
   "metadata": {},
   "source": [
    "## 8.5 将名称封装到类中\n",
    "### 8.5.1 问题\n",
    "我们想将“私有”数据封装到类的实例上，但是又需要考虑到python缺乏对属性的访问控制问题\n",
    "### 8.5.2 解决方案\n",
    "与其依赖语言特性来封装数据，Python 程序员们更期望通过特定的命名规则来表达出对数据和方法的用途。第一个规则是任何以单下划线（_）开头的名字应该总是被认为只属于内部实现。"
   ]
  },
  {
   "cell_type": "code",
   "execution_count": 1,
   "metadata": {},
   "outputs": [],
   "source": [
    "class A:\n",
    "    def __init__(self):\n",
    "        self._internal = 0 # An internal attribute\n",
    "        self.public = 1 # An internal attribute\n",
    "    \n",
    "    def  public_method(self):\n",
    "        \"\"\"\n",
    "        A public method\n",
    "        \"\"\"\n",
    "        pass\n",
    "\n",
    "    def _internal_method(self):\n",
    "        \"\"\"\n",
    "        \"\"\"\n",
    "        pass\n",
    "    "
   ]
  },
  {
   "cell_type": "code",
   "execution_count": 14,
   "metadata": {},
   "outputs": [
    {
     "data": {
      "text/plain": [
       "(0, 1)"
      ]
     },
     "execution_count": 14,
     "metadata": {},
     "output_type": "execute_result"
    }
   ],
   "source": [
    "class B:\n",
    "    def __init__(self):\n",
    "        self.__private = 0\n",
    "    def __private_method(self):\n",
    "        ...\n",
    "    def public_method(self):\n",
    "        ...\n",
    "        self.__private_method()\n",
    "        ...\n",
    "# 以双下划线打头的名称会导致出现名称重整（name mangling）的行为\n",
    "# 这里 ，私有名称 __private 和__private_method 会被重 命名为_C__private 和 _C__\n",
    "# private_method，这和基类 B 中的重整名称不同\n",
    "class C(B):\n",
    "    def __init__(self):\n",
    "        super().__init__()\n",
    "        self.__private = 1 # Does not override B.__private\n",
    "# Does not override B.__private_method()\n",
    "    def __private_method(self):\n",
    "        ...\n",
    "\n",
    "ass = C()\n",
    "ass._B__private, ass._C__private"
   ]
  },
  {
   "cell_type": "markdown",
   "metadata": {},
   "source": [
    "## 8.6 创建可管理的属性\n",
    "### 8.6.1 问题\n",
    "在对实例属性的获取和设定上，我们希望增加一些额外的处理过程（比如类型检查或者验证）。\n",
    "### 8.6.2 解决方案\n",
    "要自定义对属性的访问，一种简单的方式是将其定义为 property。"
   ]
  },
  {
   "cell_type": "code",
   "execution_count": 3,
   "metadata": {},
   "outputs": [
    {
     "name": "stdout",
     "output_type": "stream",
     "text": [
      "guide\n"
     ]
    }
   ],
   "source": [
    "class Person:\n",
    "    def __init__(self,first_name):\n",
    "        self.first_name = first_name\n",
    "    \n",
    "    @property\n",
    "    def first_name(self):\n",
    "        return self._first_name\n",
    "    \n",
    "    @first_name.setter\n",
    "    def first_name(self, value):\n",
    "        if not isinstance(value,str):\n",
    "            raise TypeError(\"请传入字符串\")\n",
    "        self._first_name = value\n",
    "    \n",
    "    @first_name.deleter\n",
    "    def first_name(self):\n",
    "        raise AttributeError(\"不能删除\")\n",
    "\n",
    "a = Person('guide')\n",
    "print(a.first_name)"
   ]
  },
  {
   "cell_type": "code",
   "execution_count": 16,
   "metadata": {},
   "outputs": [
    {
     "ename": "TypeError",
     "evalue": "请传入字符串",
     "output_type": "error",
     "traceback": [
      "\u001b[1;31m---------------------------------------------------------------------------\u001b[0m",
      "\u001b[1;31mTypeError\u001b[0m                                 Traceback (most recent call last)",
      "Cell \u001b[1;32mIn[16], line 1\u001b[0m\n\u001b[1;32m----> 1\u001b[0m a\u001b[39m.\u001b[39;49mfirst_name \u001b[39m=\u001b[39m \u001b[39m12\u001b[39m\n",
      "Cell \u001b[1;32mIn[15], line 12\u001b[0m, in \u001b[0;36mPerson.first_name\u001b[1;34m(self, value)\u001b[0m\n\u001b[0;32m      9\u001b[0m \u001b[39m@first_name\u001b[39m\u001b[39m.\u001b[39msetter\n\u001b[0;32m     10\u001b[0m \u001b[39mdef\u001b[39;00m \u001b[39mfirst_name\u001b[39m(\u001b[39mself\u001b[39m, value):\n\u001b[0;32m     11\u001b[0m     \u001b[39mif\u001b[39;00m \u001b[39mnot\u001b[39;00m \u001b[39misinstance\u001b[39m(value,\u001b[39mstr\u001b[39m):\n\u001b[1;32m---> 12\u001b[0m         \u001b[39mraise\u001b[39;00m \u001b[39mTypeError\u001b[39;00m(\u001b[39m\"\u001b[39m\u001b[39m请传入字符串\u001b[39m\u001b[39m\"\u001b[39m)\n\u001b[0;32m     13\u001b[0m     \u001b[39mself\u001b[39m\u001b[39m.\u001b[39m_first_name \u001b[39m=\u001b[39m value\n",
      "\u001b[1;31mTypeError\u001b[0m: 请传入字符串"
     ]
    }
   ],
   "source": [
    "a.first_name = 12"
   ]
  },
  {
   "cell_type": "code",
   "execution_count": 17,
   "metadata": {},
   "outputs": [
    {
     "ename": "AttributeError",
     "evalue": "不能删除",
     "output_type": "error",
     "traceback": [
      "\u001b[1;31m---------------------------------------------------------------------------\u001b[0m",
      "\u001b[1;31mAttributeError\u001b[0m                            Traceback (most recent call last)",
      "Cell \u001b[1;32mIn[17], line 1\u001b[0m\n\u001b[1;32m----> 1\u001b[0m \u001b[39mdel\u001b[39;00m a\u001b[39m.\u001b[39mfirst_name\n",
      "Cell \u001b[1;32mIn[15], line 17\u001b[0m, in \u001b[0;36mPerson.first_name\u001b[1;34m(self)\u001b[0m\n\u001b[0;32m     15\u001b[0m \u001b[39m@first_name\u001b[39m\u001b[39m.\u001b[39mdeleter\n\u001b[0;32m     16\u001b[0m \u001b[39mdef\u001b[39;00m \u001b[39mfirst_name\u001b[39m(\u001b[39mself\u001b[39m):\n\u001b[1;32m---> 17\u001b[0m     \u001b[39mraise\u001b[39;00m \u001b[39mAttributeError\u001b[39;00m(\u001b[39m\"\u001b[39m\u001b[39m不能删除\u001b[39m\u001b[39m\"\u001b[39m)\n",
      "\u001b[1;31mAttributeError\u001b[0m: 不能删除"
     ]
    }
   ],
   "source": [
    "del a.first_name"
   ]
  },
  {
   "cell_type": "markdown",
   "metadata": {},
   "source": [
    "## 8.7 调用父类中的方法\n",
    "### 8.7.1 问题\n",
    "我们想调用一个父类中的方法，这个方法在子类中已经被覆盖了。\n",
    "### 8.7.2 解决方案\n",
    "要调用父类（或称超类）中的方法，可以使用 super()函数完成。"
   ]
  },
  {
   "cell_type": "code",
   "execution_count": 2,
   "metadata": {},
   "outputs": [
    {
     "name": "stdout",
     "output_type": "stream",
     "text": [
      "B.spam\n",
      "A.spam\n"
     ]
    }
   ],
   "source": [
    "class A:\n",
    "    def spam(self):\n",
    "        print('A.spam')\n",
    "\n",
    "class B(A):\n",
    "    def spam(self):\n",
    "        print('B.spam')\n",
    "        super().spam()\n",
    "\n",
    "b = B()\n",
    "b.spam()"
   ]
  },
  {
   "cell_type": "markdown",
   "metadata": {},
   "source": [
    "## 8.8 在子类中扩展属性\n",
    "### 8.8.1 问题\n",
    "我们想在子类中扩展某个属性的功能，而这个属性是在父类中定义的。\n",
    "### 8.8.2 解决方案"
   ]
  },
  {
   "cell_type": "code",
   "execution_count": 10,
   "metadata": {},
   "outputs": [
    {
     "name": "stdout",
     "output_type": "stream",
     "text": [
      "setting name to  Guido\n",
      "getting name \n",
      "Guido\n",
      "setting name to  xiny\n",
      "setting name to  12\n"
     ]
    },
    {
     "ename": "TypeError",
     "evalue": "请传入字符串",
     "output_type": "error",
     "traceback": [
      "\u001b[1;31m---------------------------------------------------------------------------\u001b[0m",
      "\u001b[1;31mTypeError\u001b[0m                                 Traceback (most recent call last)",
      "Cell \u001b[1;32mIn[10], line 39\u001b[0m\n\u001b[0;32m     37\u001b[0m \u001b[39mprint\u001b[39m(s\u001b[39m.\u001b[39mname)\n\u001b[0;32m     38\u001b[0m s\u001b[39m.\u001b[39mname \u001b[39m=\u001b[39m \u001b[39m'\u001b[39m\u001b[39mxiny\u001b[39m\u001b[39m'\u001b[39m\n\u001b[1;32m---> 39\u001b[0m s\u001b[39m.\u001b[39;49mname \u001b[39m=\u001b[39m \u001b[39m12\u001b[39m\n",
      "Cell \u001b[1;32mIn[10], line 29\u001b[0m, in \u001b[0;36mSubPerson.name\u001b[1;34m(self, value)\u001b[0m\n\u001b[0;32m     26\u001b[0m \u001b[39m@name\u001b[39m\u001b[39m.\u001b[39msetter\n\u001b[0;32m     27\u001b[0m \u001b[39mdef\u001b[39;00m \u001b[39mname\u001b[39m(\u001b[39mself\u001b[39m,value):\n\u001b[0;32m     28\u001b[0m     \u001b[39mprint\u001b[39m(\u001b[39m'\u001b[39m\u001b[39msetting name to \u001b[39m\u001b[39m'\u001b[39m, value)\n\u001b[1;32m---> 29\u001b[0m     \u001b[39msuper\u001b[39;49m(SubPerson, SubPerson)\u001b[39m.\u001b[39;49mname\u001b[39m.\u001b[39;49m\u001b[39m__set__\u001b[39;49m(\u001b[39mself\u001b[39;49m,value)\n",
      "Cell \u001b[1;32mIn[10], line 13\u001b[0m, in \u001b[0;36mPerson.name\u001b[1;34m(self, value)\u001b[0m\n\u001b[0;32m     10\u001b[0m \u001b[39m@name\u001b[39m\u001b[39m.\u001b[39msetter\n\u001b[0;32m     11\u001b[0m \u001b[39mdef\u001b[39;00m \u001b[39mname\u001b[39m(\u001b[39mself\u001b[39m, value):\n\u001b[0;32m     12\u001b[0m     \u001b[39mif\u001b[39;00m \u001b[39mnot\u001b[39;00m \u001b[39misinstance\u001b[39m(value,\u001b[39mstr\u001b[39m):\n\u001b[1;32m---> 13\u001b[0m         \u001b[39mraise\u001b[39;00m \u001b[39mTypeError\u001b[39;00m(\u001b[39m\"\u001b[39m\u001b[39m请传入字符串\u001b[39m\u001b[39m\"\u001b[39m)\n\u001b[0;32m     14\u001b[0m     \u001b[39mself\u001b[39m\u001b[39m.\u001b[39m_name \u001b[39m=\u001b[39m value\n",
      "\u001b[1;31mTypeError\u001b[0m: 请传入字符串"
     ]
    }
   ],
   "source": [
    "# 下面从 Person 类中继承，然后在子类中扩展 name 属性的功能\n",
    "class Person:\n",
    "    def __init__(self,name):\n",
    "        self.name = name\n",
    "    \n",
    "    @property\n",
    "    def name(self):\n",
    "        return self._name\n",
    "    \n",
    "    @name.setter\n",
    "    def name(self, value):\n",
    "        if not isinstance(value,str):\n",
    "            raise TypeError(\"请传入字符串\")\n",
    "        self._name = value\n",
    "    \n",
    "    @name.deleter\n",
    "    def name(self):\n",
    "        raise AttributeError(\"不能删除\")\n",
    "    \n",
    "class SubPerson(Person):\n",
    "    @property\n",
    "    def name(self):\n",
    "        print('getting name ')\n",
    "        return super().name\n",
    "    \n",
    "    @name.setter\n",
    "    def name(self,value):\n",
    "        print('setting name to ', value)\n",
    "        super(SubPerson, SubPerson).name.__set__(self,value)\n",
    "    \n",
    "    @name.deleter\n",
    "    def name(self):\n",
    "        print('deleting name')\n",
    "        super(SubPerson, SubPerson).name.__delete__(self)\n",
    "\n",
    "s = SubPerson('Guido')\n",
    "print(s.name)\n",
    "s.name = 'xiny'\n",
    "s.name = 12"
   ]
  },
  {
   "cell_type": "code",
   "execution_count": 12,
   "metadata": {},
   "outputs": [
    {
     "name": "stdout",
     "output_type": "stream",
     "text": [
      "getting name\n"
     ]
    },
    {
     "data": {
      "text/plain": [
       "'abc'"
      ]
     },
     "execution_count": 12,
     "metadata": {},
     "output_type": "execute_result"
    }
   ],
   "source": [
    "# 只想扩展属性中的其中一个方法\n",
    "class SubPerson(Person):\n",
    "    @Person.name.getter\n",
    "    def name(self):\n",
    "        print('getting name')\n",
    "        return super().name\n",
    "\n",
    "a = SubPerson('abc')\n",
    "a.name"
   ]
  },
  {
   "cell_type": "markdown",
   "metadata": {},
   "source": [
    "## 8.9 创建一种新形式的类属性或实例属性\n",
    "### 8.9.1 问题\n",
    "我们想创建一种新形式的实例属性，它可以拥有一些额外的功能，比如说类型检查。\n",
    "### 8.9.2 解决方案\n"
   ]
  },
  {
   "cell_type": "code",
   "execution_count": 14,
   "metadata": {},
   "outputs": [
    {
     "name": "stdout",
     "output_type": "stream",
     "text": [
      "2\n"
     ]
    },
    {
     "ename": "TypeError",
     "evalue": "应输入int",
     "output_type": "error",
     "traceback": [
      "\u001b[1;31m---------------------------------------------------------------------------\u001b[0m",
      "\u001b[1;31mTypeError\u001b[0m                                 Traceback (most recent call last)",
      "Cell \u001b[1;32mIn[14], line 29\u001b[0m\n\u001b[0;32m     27\u001b[0m \u001b[39mprint\u001b[39m(p\u001b[39m.\u001b[39mx)\n\u001b[0;32m     28\u001b[0m p\u001b[39m.\u001b[39my \u001b[39m=\u001b[39m \u001b[39m5\u001b[39m\n\u001b[1;32m---> 29\u001b[0m p\u001b[39m.\u001b[39;49mx \u001b[39m=\u001b[39m \u001b[39m2.3\u001b[39m\n",
      "Cell \u001b[1;32mIn[14], line 13\u001b[0m, in \u001b[0;36mInteger.__set__\u001b[1;34m(self, instance, value)\u001b[0m\n\u001b[0;32m     11\u001b[0m \u001b[39mdef\u001b[39;00m \u001b[39m__set__\u001b[39m(\u001b[39mself\u001b[39m,instance,value):\n\u001b[0;32m     12\u001b[0m     \u001b[39mif\u001b[39;00m \u001b[39mnot\u001b[39;00m \u001b[39misinstance\u001b[39m(value,\u001b[39mint\u001b[39m):\n\u001b[1;32m---> 13\u001b[0m         \u001b[39mraise\u001b[39;00m \u001b[39mTypeError\u001b[39;00m(\u001b[39m'\u001b[39m\u001b[39m应输入int\u001b[39m\u001b[39m'\u001b[39m)\n\u001b[0;32m     14\u001b[0m     instance\u001b[39m.\u001b[39m\u001b[39m__dict__\u001b[39m[\u001b[39mself\u001b[39m\u001b[39m.\u001b[39mname] \u001b[39m=\u001b[39m value\n",
      "\u001b[1;31mTypeError\u001b[0m: 应输入int"
     ]
    }
   ],
   "source": [
    "class Integer:\n",
    "    def __init__(self,name):\n",
    "        self.name = name\n",
    "    \n",
    "    def __get__(self,instance,cls):\n",
    "        if instance is None: \n",
    "            return self\n",
    "        else:\n",
    "            return instance.__dict__[self.name]\n",
    "    \n",
    "    def __set__(self,instance,value):\n",
    "        if not isinstance(value,int):\n",
    "            raise TypeError('应输入int')\n",
    "        instance.__dict__[self.name] = value\n",
    "    \n",
    "    def __delete__(self,instance):\n",
    "        del instance.__dict__[self.name]\n",
    "\n",
    "class Point:\n",
    "    x = Integer('x')\n",
    "    y = Integer('y')\n",
    "    def __init__(self,x,y):\n",
    "        self.x = x\n",
    "        self.y = y\n",
    "\n",
    "p = Point(2,3)\n",
    "print(p.x)\n",
    "p.y = 5\n",
    "p.x = 2.3"
   ]
  },
  {
   "cell_type": "markdown",
   "metadata": {},
   "source": [
    "## 8.10 让属性具有惰性求值的能力\n",
    "### 8.10.1 问题\n",
    "我们想将一个只读的属性定义为property属性方法，只有在访问它时才参与计算。但是，一旦访问了该属性，我们希望把计算出的值缓存起来，不要每次访问它时都重新计算\n",
    "### 8.10.2 解决方案"
   ]
  },
  {
   "cell_type": "code",
   "execution_count": 15,
   "metadata": {},
   "outputs": [],
   "source": [
    "class lazyproperty:\n",
    "    def __init__(self,func):\n",
    "        self.func = func\n",
    "    \n",
    "    def __get__(self, instance, cls):\n",
    "        if instance is None:\n",
    "            return self\n",
    "        else:\n",
    "            value = self.func(instance)\n",
    "            setattr(instance,self.func.__name__,value)\n",
    "            return value\n",
    "\n",
    "import math\n",
    "class Circle:\n",
    "    def __init__(self,radius):\n",
    "        self.radius = radius\n",
    "\n",
    "    @lazyproperty\n",
    "    def area(self):\n",
    "        print('Computer area')\n",
    "        return math.pi * self.radius ** 2\n",
    "    \n",
    "    @lazyproperty\n",
    "    def perimeter(self):\n",
    "        print('Computer perimeter')\n",
    "        return 2 * math.pi * self.radius"
   ]
  },
  {
   "cell_type": "code",
   "execution_count": 16,
   "metadata": {},
   "outputs": [
    {
     "data": {
      "text/plain": [
       "4.0"
      ]
     },
     "execution_count": 16,
     "metadata": {},
     "output_type": "execute_result"
    }
   ],
   "source": [
    "c = Circle(4.0)\n",
    "c.radius"
   ]
  },
  {
   "cell_type": "code",
   "execution_count": 17,
   "metadata": {},
   "outputs": [
    {
     "name": "stdout",
     "output_type": "stream",
     "text": [
      "Computer area\n"
     ]
    },
    {
     "data": {
      "text/plain": [
       "50.26548245743669"
      ]
     },
     "execution_count": 17,
     "metadata": {},
     "output_type": "execute_result"
    }
   ],
   "source": [
    "c.area"
   ]
  },
  {
   "cell_type": "code",
   "execution_count": 18,
   "metadata": {},
   "outputs": [
    {
     "data": {
      "text/plain": [
       "50.26548245743669"
      ]
     },
     "execution_count": 18,
     "metadata": {},
     "output_type": "execute_result"
    }
   ],
   "source": [
    "c.area"
   ]
  },
  {
   "cell_type": "code",
   "execution_count": 19,
   "metadata": {},
   "outputs": [
    {
     "name": "stdout",
     "output_type": "stream",
     "text": [
      "Computer perimeter\n"
     ]
    },
    {
     "data": {
      "text/plain": [
       "25.132741228718345"
      ]
     },
     "execution_count": 19,
     "metadata": {},
     "output_type": "execute_result"
    }
   ],
   "source": [
    "c.perimeter"
   ]
  },
  {
   "cell_type": "code",
   "execution_count": 20,
   "metadata": {},
   "outputs": [
    {
     "data": {
      "text/plain": [
       "25.132741228718345"
      ]
     },
     "execution_count": 20,
     "metadata": {},
     "output_type": "execute_result"
    }
   ],
   "source": [
    "c.perimeter"
   ]
  },
  {
   "cell_type": "code",
   "execution_count": null,
   "metadata": {},
   "outputs": [],
   "source": []
  },
  {
   "cell_type": "code",
   "execution_count": null,
   "metadata": {},
   "outputs": [],
   "source": []
  }
 ],
 "metadata": {
  "kernelspec": {
   "display_name": "base",
   "language": "python",
   "name": "python3"
  },
  "language_info": {
   "codemirror_mode": {
    "name": "ipython",
    "version": 3
   },
   "file_extension": ".py",
   "mimetype": "text/x-python",
   "name": "python",
   "nbconvert_exporter": "python",
   "pygments_lexer": "ipython3",
   "version": "3.9.12"
  },
  "orig_nbformat": 4
 },
 "nbformat": 4,
 "nbformat_minor": 2
}
